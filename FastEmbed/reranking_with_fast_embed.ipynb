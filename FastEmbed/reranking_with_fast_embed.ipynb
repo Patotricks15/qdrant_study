{
 "cells": [
  {
   "cell_type": "code",
   "execution_count": 1,
   "metadata": {},
   "outputs": [
    {
     "name": "stderr",
     "output_type": "stream",
     "text": [
      "/home/patrick/qdrant_study/venv/lib/python3.12/site-packages/tqdm/auto.py:21: TqdmWarning: IProgress not found. Please update jupyter and ipywidgets. See https://ipywidgets.readthedocs.io/en/stable/user_install.html\n",
      "  from .autonotebook import tqdm as notebook_tqdm\n"
     ]
    }
   ],
   "source": [
    "from fastembed import TextEmbedding\n",
    "from fastembed.rerank.cross_encoder import TextCrossEncoder"
   ]
  },
  {
   "cell_type": "code",
   "execution_count": 2,
   "metadata": {},
   "outputs": [
    {
     "name": "stderr",
     "output_type": "stream",
     "text": [
      "Fetching 5 files: 100%|██████████| 5/5 [00:13<00:00,  2.76s/it]\n",
      "Fetching 5 files: 100%|██████████| 5/5 [02:05<00:00, 25.17s/it]\n"
     ]
    }
   ],
   "source": [
    "dense_embedding_model = TextEmbedding(\"sentence-transformers/all-MiniLM-L6-v2\")\n",
    "reranker = TextCrossEncoder(model_name='jinaai/jina-reranker-v2-base-multilingual')"
   ]
  },
  {
   "cell_type": "code",
   "execution_count": 3,
   "metadata": {},
   "outputs": [],
   "source": [
    "descriptions = [\"In 1431, Jeanne d'Arc is placed on trial on charges of heresy. The ecclesiastical jurists attempt to force Jeanne to recant her claims of holy visions.\",\n",
    " \"A film projectionist longs to be a detective, and puts his meagre skills to work when he is framed by a rival for stealing his girlfriend's father's pocketwatch.\",\n",
    " \"A group of high-end professional thieves start to feel the heat from the LAPD when they unknowingly leave a clue at their latest heist.\",\n",
    " \"A petty thief with an utter resemblance to a samurai warlord is hired as the lord's double. When the warlord later dies the thief is forced to take up arms in his place.\",\n",
    " \"A young boy named Kubo must locate a magical suit of armour worn by his late father in order to defeat a vengeful spirit from the past.\",\n",
    " \"A biopic detailing the 2 decades that Punjabi Sikh revolutionary Udham Singh spent planning the assassination of the man responsible for the Jallianwala Bagh massacre.\",\n",
    " \"When a machine that allows therapists to enter their patients' dreams is stolen, all hell breaks loose. Only a young female therapist, Paprika, can stop it.\",\n",
    " \"An ordinary word processor has the worst night of his life after he agrees to visit a girl in Soho whom he met that evening at a coffee shop.\",\n",
    " \"A story that revolves around drug abuse in the affluent north Indian State of Punjab and how the youth there have succumbed to it en-masse resulting in a socio-economic decline.\",\n",
    " \"A world-weary political journalist picks up the story of a woman's search for her son, who was taken away from her decades ago after she became pregnant and was forced to live in a convent.\",\n",
    " \"Concurrent theatrical ending of the TV series Neon Genesis Evangelion (1995).\",\n",
    " \"During World War II, a rebellious U.S. Army Major is assigned a dozen convicted murderers to train and lead them into a mass assassination mission of German officers.\",\n",
    " \"The toys are mistakenly delivered to a day-care center instead of the attic right before Andy leaves for college, and it's up to Woody to convince the other toys that they weren't abandoned and to return home.\",\n",
    " \"A soldier fighting aliens gets to relive the same day over and over again, the day restarting every time he dies.\",\n",
    " \"After two male musicians witness a mob hit, they flee the state in an all-female band disguised as women, but further complications set in.\",\n",
    " \"Exiled into the dangerous forest by her wicked stepmother, a princess is rescued by seven dwarf miners who make her part of their household.\",\n",
    " \"A renegade reporter trailing a young runaway heiress for a big story joins her on a bus heading from Florida to New York, and they end up stuck with each other when the bus leaves them behind at one of the stops.\",\n",
    " \"Story of 40-man Turkish task force who must defend a relay station.\",\n",
    " \"Spinal Tap, one of England's loudest bands, is chronicled by film director Marty DiBergi on what proves to be a fateful tour.\",\n",
    " \"Oskar, an overlooked and bullied boy, finds love and revenge through Eli, a beautiful but peculiar girl.\"]"
   ]
  },
  {
   "cell_type": "code",
   "execution_count": 4,
   "metadata": {},
   "outputs": [],
   "source": [
    "descriptions_embeddings = list(\n",
    "    dense_embedding_model.embed(descriptions)\n",
    ")"
   ]
  },
  {
   "cell_type": "code",
   "execution_count": 5,
   "metadata": {},
   "outputs": [],
   "source": [
    "from qdrant_client import QdrantClient, models\n",
    "\n",
    "qdrant_client = QdrantClient(\":memory:\") # Qdrant is running from RAM."
   ]
  },
  {
   "cell_type": "code",
   "execution_count": 6,
   "metadata": {},
   "outputs": [
    {
     "data": {
      "text/plain": [
       "True"
      ]
     },
     "execution_count": 6,
     "metadata": {},
     "output_type": "execute_result"
    }
   ],
   "source": [
    "qdrant_client.create_collection(\n",
    "    collection_name=\"movies\",\n",
    "    vectors_config={\n",
    "        \"embedding\": models.VectorParams(\n",
    "            size=384, #size of `all-MiniLM-L6-v2` embeddings\n",
    "            distance=models.Distance.COSINE\n",
    "        )\n",
    "    }\n",
    ")"
   ]
  },
  {
   "cell_type": "code",
   "execution_count": 7,
   "metadata": {},
   "outputs": [],
   "source": [
    "qdrant_client.upload_points(\n",
    "    collection_name=\"movies\",\n",
    "    points=[\n",
    "        models.PointStruct(\n",
    "            id=idx,\n",
    "            payload={\n",
    "                \"description\": description\n",
    "            },\n",
    "            vector={\n",
    "                \"embedding\": vector\n",
    "            }\n",
    "        )\n",
    "        for idx, (description, vector) in enumerate(zip(descriptions, \n",
    "                                                        descriptions_embeddings))\n",
    "    ],\n",
    ")"
   ]
  },
  {
   "cell_type": "code",
   "execution_count": 10,
   "metadata": {},
   "outputs": [
    {
     "name": "stdout",
     "output_type": "stream",
     "text": [
      "Result number 1 is \"A world-weary political journalist picks up the story of a woman's search for her son, who was taken away from her decades ago after she became pregnant and was forced to live in a convent.\"\n",
      "Result number 2 is \"Exiled into the dangerous forest by her wicked stepmother, a princess is rescued by seven dwarf miners who make her part of their household.\"\n",
      "Result number 3 is \"Oskar, an overlooked and bullied boy, finds love and revenge through Eli, a beautiful but peculiar girl.\"\n",
      "Result number 4 is \"A renegade reporter trailing a young runaway heiress for a big story joins her on a bus heading from Florida to New York, and they end up stuck with each other when the bus leaves them behind at one of the stops.\"\n",
      "Result number 5 is \"A story that revolves around drug abuse in the affluent north Indian State of Punjab and how the youth there have succumbed to it en-masse resulting in a socio-economic decline.\"\n",
      "Result number 6 is \"After two male musicians witness a mob hit, they flee the state in an all-female band disguised as women, but further complications set in.\"\n",
      "Result number 7 is \"When a machine that allows therapists to enter their patients' dreams is stolen, all hell breaks loose. Only a young female therapist, Paprika, can stop it.\"\n",
      "Result number 8 is \"An ordinary word processor has the worst night of his life after he agrees to visit a girl in Soho whom he met that evening at a coffee shop.\"\n",
      "Result number 9 is \"A biopic detailing the 2 decades that Punjabi Sikh revolutionary Udham Singh spent planning the assassination of the man responsible for the Jallianwala Bagh massacre.\"\n",
      "Result number 10 is \"In 1431, Jeanne d'Arc is placed on trial on charges of heresy. The ecclesiastical jurists attempt to force Jeanne to recant her claims of holy visions.\"\n"
     ]
    }
   ],
   "source": [
    "query = '''A story about a strong historically significant female figure.'''\n",
    "query_embedded = list(dense_embedding_model.query_embed(query))[0]\n",
    "\n",
    "initial_retrieval = qdrant_client.query_points(\n",
    "    collection_name=\"movies\",\n",
    "    using=\"embedding\",\n",
    "    query=query_embedded,\n",
    "    with_payload=True,\n",
    "    limit=10\n",
    ")\n",
    "\n",
    "description_hits = []\n",
    "for i, hit in enumerate(initial_retrieval.points):\n",
    "    print(f'''Result number {i+1} is \\\"{hit.payload[\"description\"]}\\\"''')\n",
    "    description_hits.append(hit.payload[\"description\"])"
   ]
  },
  {
   "cell_type": "code",
   "execution_count": 11,
   "metadata": {},
   "outputs": [
    {
     "name": "stdout",
     "output_type": "stream",
     "text": [
      "Reranked result number 1 is \"In 1431, Jeanne d'Arc is placed on trial on charges of heresy. The ecclesiastical jurists attempt to force Jeanne to recant her claims of holy visions.\"\n",
      "Reranked result number 2 is \"Exiled into the dangerous forest by her wicked stepmother, a princess is rescued by seven dwarf miners who make her part of their household.\"\n",
      "Reranked result number 3 is \"Oskar, an overlooked and bullied boy, finds love and revenge through Eli, a beautiful but peculiar girl.\"\n",
      "Reranked result number 4 is \"A world-weary political journalist picks up the story of a woman's search for her son, who was taken away from her decades ago after she became pregnant and was forced to live in a convent.\"\n",
      "Reranked result number 5 is \"A renegade reporter trailing a young runaway heiress for a big story joins her on a bus heading from Florida to New York, and they end up stuck with each other when the bus leaves them behind at one of the stops.\"\n",
      "Reranked result number 6 is \"After two male musicians witness a mob hit, they flee the state in an all-female band disguised as women, but further complications set in.\"\n",
      "Reranked result number 7 is \"When a machine that allows therapists to enter their patients' dreams is stolen, all hell breaks loose. Only a young female therapist, Paprika, can stop it.\"\n",
      "Reranked result number 8 is \"A story that revolves around drug abuse in the affluent north Indian State of Punjab and how the youth there have succumbed to it en-masse resulting in a socio-economic decline.\"\n",
      "Reranked result number 9 is \"An ordinary word processor has the worst night of his life after he agrees to visit a girl in Soho whom he met that evening at a coffee shop.\"\n",
      "Reranked result number 10 is \"A biopic detailing the 2 decades that Punjabi Sikh revolutionary Udham Singh spent planning the assassination of the man responsible for the Jallianwala Bagh massacre.\"\n"
     ]
    }
   ],
   "source": [
    "new_scores = list(reranker.rerank(query, description_hits)) #returns scores between query and each document\n",
    "\n",
    "ranking = [(i, score) for i, score in enumerate(new_scores)] #saving document indices\n",
    "ranking.sort(key=lambda x: x[1], reverse=True) #sorting them in order of relevance defined by reranker\n",
    "\n",
    "for i, rank in enumerate(ranking):\n",
    "    print(f'''Reranked result number {i+1} is \\\"{description_hits[rank[0]]}\\\"''')"
   ]
  },
  {
   "cell_type": "markdown",
   "metadata": {},
   "source": [
    "Rerankers refine search results by reordering retrieved candidates through deeper semantic analysis. For efficiency, they should be applied only to a small subset of retrieved results.\n",
    "\n",
    "Balance speed and accuracy in search by leveraging the power of rerankers!"
   ]
  },
  {
   "cell_type": "markdown",
   "metadata": {},
   "source": []
  }
 ],
 "metadata": {
  "kernelspec": {
   "display_name": "venv",
   "language": "python",
   "name": "python3"
  },
  "language_info": {
   "codemirror_mode": {
    "name": "ipython",
    "version": 3
   },
   "file_extension": ".py",
   "mimetype": "text/x-python",
   "name": "python",
   "nbconvert_exporter": "python",
   "pygments_lexer": "ipython3",
   "version": "3.12.3"
  }
 },
 "nbformat": 4,
 "nbformat_minor": 2
}
