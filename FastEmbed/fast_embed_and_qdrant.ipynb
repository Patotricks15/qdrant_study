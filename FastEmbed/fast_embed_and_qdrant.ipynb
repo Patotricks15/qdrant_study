{
 "cells": [
  {
   "cell_type": "code",
   "execution_count": 1,
   "metadata": {},
   "outputs": [
    {
     "name": "stderr",
     "output_type": "stream",
     "text": [
      "/home/patrick/qdrant_study/venv/lib/python3.12/site-packages/tqdm/auto.py:21: TqdmWarning: IProgress not found. Please update jupyter and ipywidgets. See https://ipywidgets.readthedocs.io/en/stable/user_install.html\n",
      "  from .autonotebook import tqdm as notebook_tqdm\n"
     ]
    }
   ],
   "source": [
    "from qdrant_client import QdrantClient\n",
    "\n",
    "client = QdrantClient(\":memory:\")  # Qdrant is running from RAM."
   ]
  },
  {
   "cell_type": "code",
   "execution_count": 2,
   "metadata": {},
   "outputs": [],
   "source": [
    "docs = [\"Qdrant has a LangChain integration for chatbots.\", \"Qdrant has a LlamaIndex integration for agents.\"]\n",
    "metadata = [\n",
    "    {\"source\": \"langchain-docs\"},\n",
    "    {\"source\": \"llamaindex-docs\"},\n",
    "]\n",
    "ids = [42, 2]"
   ]
  },
  {
   "cell_type": "code",
   "execution_count": 3,
   "metadata": {},
   "outputs": [
    {
     "name": "stderr",
     "output_type": "stream",
     "text": [
      "Fetching 5 files: 100%|██████████| 5/5 [00:15<00:00,  3.16s/it]\n"
     ]
    },
    {
     "data": {
      "text/plain": [
       "[42, 2]"
      ]
     },
     "execution_count": 3,
     "metadata": {},
     "output_type": "execute_result"
    }
   ],
   "source": [
    "client.add(\n",
    "collection_name = \"test_collection\",\n",
    "documents = docs,\n",
    "metadata=metadata,\n",
    "ids=ids)"
   ]
  },
  {
   "cell_type": "code",
   "execution_count": 5,
   "metadata": {},
   "outputs": [],
   "source": [
    "search_result = client.query(\n",
    "    collection_name=\"test_collection\",\n",
    "    query_text=\"Which integration is best for agents?\"\n",
    ")"
   ]
  },
  {
   "cell_type": "code",
   "execution_count": 6,
   "metadata": {},
   "outputs": [
    {
     "data": {
      "text/plain": [
       "[QueryResponse(id=2, embedding=None, sparse_embedding=None, metadata={'document': 'Qdrant has a LlamaIndex integration for agents.', 'source': 'llamaindex-docs'}, document='Qdrant has a LlamaIndex integration for agents.', score=0.8749180431000042),\n",
       " QueryResponse(id=42, embedding=None, sparse_embedding=None, metadata={'document': 'Qdrant has a LangChain integration for chatbots.', 'source': 'langchain-docs'}, document='Qdrant has a LangChain integration for chatbots.', score=0.8351847113314779)]"
      ]
     },
     "execution_count": 6,
     "metadata": {},
     "output_type": "execute_result"
    }
   ],
   "source": [
    "search_result"
   ]
  },
  {
   "cell_type": "code",
   "execution_count": null,
   "metadata": {},
   "outputs": [],
   "source": []
  }
 ],
 "metadata": {
  "kernelspec": {
   "display_name": "venv",
   "language": "python",
   "name": "python3"
  },
  "language_info": {
   "codemirror_mode": {
    "name": "ipython",
    "version": 3
   },
   "file_extension": ".py",
   "mimetype": "text/x-python",
   "name": "python",
   "nbconvert_exporter": "python",
   "pygments_lexer": "ipython3",
   "version": "3.12.3"
  }
 },
 "nbformat": 4,
 "nbformat_minor": 2
}
