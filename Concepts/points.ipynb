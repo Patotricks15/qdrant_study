{
 "cells": [
  {
   "cell_type": "code",
   "execution_count": 10,
   "metadata": {},
   "outputs": [
    {
     "data": {
      "text/plain": [
       "UpdateResult(operation_id=0, status=<UpdateStatus.COMPLETED: 'completed'>)"
      ]
     },
     "execution_count": 10,
     "metadata": {},
     "output_type": "execute_result"
    }
   ],
   "source": [
    "from qdrant_client import QdrantClient, models\n",
    "\n",
    "client = QdrantClient(url=\"http://localhost:6333\")\n",
    "collection_name = 'points'\n",
    "client.create_collection(\n",
    "    collection_name=\"{collection_name}\",\n",
    "    vectors_config=models.VectorParams(size=3, distance=models.Distance.COSINE),\n",
    ")\n",
    "\n",
    "client.upsert(\n",
    "    collection_name=\"{collection_name}\",\n",
    "    points=[\n",
    "        models.PointStruct(\n",
    "            id=\"5c56c793-69f3-4fbf-87e6-c4bf54c28c26\",\n",
    "            payload={\n",
    "                \"color\": \"red\",\n",
    "            },\n",
    "            vector=[0.9, 0.1, 0.1],\n",
    "        ),\n",
    "    ],\n",
    ")"
   ]
  },
  {
   "cell_type": "code",
   "execution_count": 11,
   "metadata": {},
   "outputs": [
    {
     "data": {
      "text/plain": [
       "UpdateResult(operation_id=1, status=<UpdateStatus.COMPLETED: 'completed'>)"
      ]
     },
     "execution_count": 11,
     "metadata": {},
     "output_type": "execute_result"
    }
   ],
   "source": [
    "client.upsert(\n",
    "    collection_name=\"{collection_name}\",\n",
    "    points=models.Batch(\n",
    "        ids=[1, 2, 3],\n",
    "        payloads=[\n",
    "            {\"color\": \"red\"},\n",
    "            {\"color\": \"green\"},\n",
    "            {\"color\": \"blue\"},\n",
    "        ],\n",
    "        vectors=[\n",
    "            [0.9, 0.1, 0.1],\n",
    "            [0.1, 0.9, 0.1],\n",
    "            [0.1, 0.1, 0.9],\n",
    "        ],\n",
    "    ),\n",
    ")"
   ]
  },
  {
   "cell_type": "code",
   "execution_count": 12,
   "metadata": {},
   "outputs": [],
   "source": [
    "client.upload_collection(\n",
    "    collection_name=\"{collection_name}\",\n",
    "    ids=[1, 2],\n",
    "    payload=[\n",
    "        {\"color\": \"red\"},\n",
    "        {\"color\": \"green\"},\n",
    "    ],\n",
    "    vectors=[\n",
    "        [0.9, 0.1, 0.1],\n",
    "        [0.1, 0.9, 0.1],\n",
    "    ],\n",
    "    parallel=4,\n",
    "    max_retries=3,\n",
    ")"
   ]
  },
  {
   "cell_type": "code",
   "execution_count": 13,
   "metadata": {},
   "outputs": [
    {
     "data": {
      "text/plain": [
       "[Record(id=3, payload={'color': 'blue'}, vector=None, shard_key=None, order_value=None)]"
      ]
     },
     "execution_count": 13,
     "metadata": {},
     "output_type": "execute_result"
    }
   ],
   "source": [
    "client.retrieve(\n",
    "    collection_name=\"{collection_name}\",\n",
    "    ids=[0, 3, 100],\n",
    ")"
   ]
  },
  {
   "cell_type": "code",
   "execution_count": 14,
   "metadata": {},
   "outputs": [
    {
     "data": {
      "text/plain": [
       "([Record(id=1, payload={'color': 'red'}, vector=None, shard_key=None, order_value=None)],\n",
       " '5c56c793-69f3-4fbf-87e6-c4bf54c28c26')"
      ]
     },
     "execution_count": 14,
     "metadata": {},
     "output_type": "execute_result"
    }
   ],
   "source": [
    "client.scroll(\n",
    "    collection_name=\"{collection_name}\",\n",
    "    scroll_filter=models.Filter(\n",
    "        must=[\n",
    "            models.FieldCondition(key=\"color\", match=models.MatchValue(value=\"red\")),\n",
    "        ]\n",
    "    ),\n",
    "    limit=1,\n",
    "    with_payload=True,\n",
    "    with_vectors=False,\n",
    ")"
   ]
  },
  {
   "cell_type": "code",
   "execution_count": null,
   "metadata": {},
   "outputs": [],
   "source": []
  }
 ],
 "metadata": {
  "kernelspec": {
   "display_name": "venv",
   "language": "python",
   "name": "python3"
  },
  "language_info": {
   "codemirror_mode": {
    "name": "ipython",
    "version": 3
   },
   "file_extension": ".py",
   "mimetype": "text/x-python",
   "name": "python",
   "nbconvert_exporter": "python",
   "pygments_lexer": "ipython3",
   "version": "3.12.3"
  }
 },
 "nbformat": 4,
 "nbformat_minor": 2
}
