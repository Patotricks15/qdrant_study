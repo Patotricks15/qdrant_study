{
 "cells": [
  {
   "cell_type": "code",
   "execution_count": 1,
   "metadata": {},
   "outputs": [
    {
     "name": "stderr",
     "output_type": "stream",
     "text": [
      "/home/patrick/qdrant_study/venv/lib/python3.12/site-packages/tqdm/auto.py:21: TqdmWarning: IProgress not found. Please update jupyter and ipywidgets. See https://ipywidgets.readthedocs.io/en/stable/user_install.html\n",
      "  from .autonotebook import tqdm as notebook_tqdm\n"
     ]
    }
   ],
   "source": [
    "from qdrant_client import QdrantClient, models\n",
    "\n",
    "client = QdrantClient(url=\"http://localhost:6333\")"
   ]
  },
  {
   "cell_type": "code",
   "execution_count": 4,
   "metadata": {},
   "outputs": [],
   "source": [
    "collection_name = 'vectors4'"
   ]
  },
  {
   "cell_type": "code",
   "execution_count": 5,
   "metadata": {},
   "outputs": [
    {
     "data": {
      "text/plain": [
       "True"
      ]
     },
     "execution_count": 5,
     "metadata": {},
     "output_type": "execute_result"
    }
   ],
   "source": [
    "client.create_collection(\n",
    "    collection_name=collection_name,\n",
    "    vectors_config=models.VectorParams(size=4, distance=models.Distance.COSINE))"
   ]
  },
  {
   "cell_type": "code",
   "execution_count": 6,
   "metadata": {},
   "outputs": [
    {
     "data": {
      "text/plain": [
       "UpdateResult(operation_id=0, status=<UpdateStatus.COMPLETED: 'completed'>)"
      ]
     },
     "execution_count": 6,
     "metadata": {},
     "output_type": "execute_result"
    }
   ],
   "source": [
    "client.upsert(\n",
    "    collection_name=collection_name,\n",
    "    points=[\n",
    "        models.PointStruct(\n",
    "            id=1,\n",
    "            vector=[0.05, 0.61, 0.76, 0.74],\n",
    "            payload={\n",
    "                \"city\": \"Berlin\",\n",
    "                \"price\": 1.99,\n",
    "            },\n",
    "        ),\n",
    "        models.PointStruct(\n",
    "            id=2,\n",
    "            vector=[0.19, 0.81, 0.75, 0.11],\n",
    "            payload={\n",
    "                \"city\": [\"Berlin\", \"London\"],\n",
    "                \"price\": 1.99,\n",
    "            },\n",
    "        ),\n",
    "        models.PointStruct(\n",
    "            id=3,\n",
    "            vector=[0.36, 0.55, 0.47, 0.94],\n",
    "            payload={\n",
    "                \"city\": [\"Berlin\", \"Moscow\"],\n",
    "                \"price\": [1.99, 2.99],\n",
    "            },\n",
    "        ),\n",
    "    ],\n",
    ")"
   ]
  },
  {
   "cell_type": "code",
   "execution_count": 10,
   "metadata": {},
   "outputs": [
    {
     "data": {
      "text/plain": [
       "QueryResponse(points=[])"
      ]
     },
     "execution_count": 10,
     "metadata": {},
     "output_type": "execute_result"
    }
   ],
   "source": [
    "client.query_points(\n",
    "    collection_name=collection_name,\n",
    "    query=models.RecommendQuery(\n",
    "        recommend=models.RecommendInput(\n",
    "            positive=[1, 2],\n",
    "            negative=[3, [0.2, 0.3, 0.4, 0.5]],\n",
    "            strategy=models.RecommendStrategy.AVERAGE_VECTOR,\n",
    "        )\n",
    "    ),\n",
    "    query_filter=models.Filter(\n",
    "        must=[\n",
    "            models.FieldCondition(\n",
    "                key=\"city\",\n",
    "                match=models.MatchValue(\n",
    "                    value=\"London\",\n",
    "                ),\n",
    "            )\n",
    "        ]\n",
    "    ),\n",
    "    limit=3,\n",
    ")"
   ]
  },
  {
   "cell_type": "code",
   "execution_count": 17,
   "metadata": {},
   "outputs": [
    {
     "data": {
      "text/plain": [
       "[QueryResponse(points=[]), QueryResponse(points=[])]"
      ]
     },
     "execution_count": 17,
     "metadata": {},
     "output_type": "execute_result"
    }
   ],
   "source": [
    "filter_ = models.Filter(\n",
    "    must=[\n",
    "        models.FieldCondition(\n",
    "            key=\"city\",\n",
    "            match=models.MatchValue(\n",
    "                value=\"London\",\n",
    "            ),\n",
    "        )\n",
    "    ]\n",
    ")\n",
    "\n",
    "recommend_queries = [\n",
    "    models.QueryRequest(\n",
    "        query=models.RecommendQuery(\n",
    "            recommend=models.RecommendInput(positive=[1], negative=[2])\n",
    "        ),\n",
    "        filter=filter_,\n",
    "        limit=3,\n",
    "    ),\n",
    "    models.QueryRequest(\n",
    "        query=models.RecommendQuery(\n",
    "            recommend=models.RecommendInput(positive=[1], negative=[2])\n",
    "        ),\n",
    "        filter=filter_,\n",
    "        limit=3,\n",
    "    ),\n",
    "]\n",
    "\n",
    "client.query_batch_points(\n",
    "    collection_name=collection_name, requests=recommend_queries\n",
    ")"
   ]
  },
  {
   "cell_type": "code",
   "execution_count": 16,
   "metadata": {},
   "outputs": [
    {
     "data": {
      "text/plain": [
       "[QueryResponse(points=[ScoredPoint(id=3, version=0, score=2.7280724, payload=None, vector=None, shard_key=None, order_value=None)])]"
      ]
     },
     "execution_count": 16,
     "metadata": {},
     "output_type": "execute_result"
    }
   ],
   "source": [
    "discover_queries = [\n",
    "    models.QueryRequest(\n",
    "        query=models.DiscoverQuery(\n",
    "            discover=models.DiscoverInput(\n",
    "                target=[0.2, 0.1, 0.9, 0.7],\n",
    "                context=[\n",
    "                    models.ContextPair(\n",
    "                        positive=1,\n",
    "                        negative=2,\n",
    "                    ),\n",
    "                    models.ContextPair(\n",
    "                        positive=1,\n",
    "                        negative=2,\n",
    "                    ),\n",
    "                ],\n",
    "            )\n",
    "        ),\n",
    "        limit=10,\n",
    "    ),\n",
    "]\n",
    "\n",
    "client.query_batch_points(\n",
    "    collection_name=collection_name, requests=discover_queries\n",
    ")"
   ]
  },
  {
   "cell_type": "code",
   "execution_count": null,
   "metadata": {},
   "outputs": [],
   "source": []
  }
 ],
 "metadata": {
  "kernelspec": {
   "display_name": "venv",
   "language": "python",
   "name": "python3"
  },
  "language_info": {
   "codemirror_mode": {
    "name": "ipython",
    "version": 3
   },
   "file_extension": ".py",
   "mimetype": "text/x-python",
   "name": "python",
   "nbconvert_exporter": "python",
   "pygments_lexer": "ipython3",
   "version": "3.12.3"
  }
 },
 "nbformat": 4,
 "nbformat_minor": 2
}
